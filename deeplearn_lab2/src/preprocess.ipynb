{
 "cells": [
  {
   "cell_type": "code",
   "execution_count": null,
   "metadata": {},
   "outputs": [],
   "source": [
    "# gonna preprocess the datafile into csv file \n",
    "# and then we can leverage `torchtext` package to process it \n",
    "# into proper data structures...\n",
    "data_root_path = '/data2/home/zhaoyi/labs/USTC-labs/deeplearn_lab2/dataset/aclImdb'\n",
    "test_path = data_root_path + '/test/'\n",
    "train_path = data_root_path + '/train/'\n",
    "train_pos = train_path + 'pos/'\n",
    "train_neg = train_path + 'neg/'\n",
    "test_pos = test_path + 'pos/'\n",
    "test_neg = test_path + 'neg/'"
   ]
  },
  {
   "cell_type": "code",
   "execution_count": null,
   "metadata": {},
   "outputs": [],
   "source": [
    "import os\n",
    "# 遍历文件夹\n",
    "train_data = list()\n",
    "test_data = list()\n",
    "def walkFile(file):\n",
    "    for root, dirs, files in os.walk(file):\n",
    "        # root 表示当前访问的文件夹路径\n",
    "        # dirs 表示该文件夹下的子目录名list\n",
    "        # files 表示该文件夹下的文件list\n",
    "        # 遍历文件\n",
    "        '''\n",
    "        for f in files:\n",
    "            print(os.path.join(root, f))\n",
    "        # 遍历所有的文件夹\n",
    "        for d in dirs:\n",
    "            print(os.path.join(root, d))\n",
    "        '''\n",
    "        print(type(root))\n",
    "        print(root)\n",
    "        print(files[0])\n",
    "        print(root+files[0])\n",
    "        print(files[-1])\n",
    "        for file in files:\n",
    "            fpath = root + file\n",
    "            fr = open(fpath,\"r\")\n",
    "            for line in fr.readlines():\n",
    "                line = line.strip()\n",
    "                if 'pos' in fpath:\n",
    "                    cls = 1 # 1 represent pos\n",
    "                elif 'neg' in fpath:\n",
    "                    cls = 0 # 0 represent neg\n",
    "                else:\n",
    "                    assert('neither pos nor neg')\n",
    "\n",
    "                if 'train' in fpath:\n",
    "                    train_data.append([line,str(cls)])\n",
    "                elif 'test' in fpath:\n",
    "                    test_data.append([line, str(cls)])\n",
    "                else:\n",
    "                    assert('neither train nor test')\n",
    "                \n",
    "        #break\n",
    "\n",
    "\n",
    "\n"
   ]
  },
  {
   "cell_type": "code",
   "execution_count": null,
   "metadata": {},
   "outputs": [],
   "source": [
    "for path in [train_pos, train_neg, test_pos, test_neg]:\n",
    "    walkFile(path)\n",
    "\n",
    "print(len(train_data))\n",
    "print(len(test_data))\n",
    "print(train_data[0])\n",
    "print(test_data[-1])"
   ]
  },
  {
   "cell_type": "code",
   "execution_count": null,
   "metadata": {},
   "outputs": [],
   "source": [
    "# output the csv files\n",
    "import csv\n",
    "import random\n",
    "proced = '/data2/home/zhaoyi/labs/USTC-labs/deeplearn/deeplearn_lab2/dataset/procd'\n",
    "train_csv = proced + '/train.csv'\n",
    "test_csv = proced + '/test.csv'\n",
    "dev_csv = proced + '/dev.csv'\n",
    "\n",
    "with open(train_csv,'w',newline='',encoding='utf-8') as train_file, open(dev_csv,'w',newline='',encoding='utf-8') as dev_file:\n",
    "    train_writer = csv.writer(train_file)\n",
    "    dev_writer = csv.writer(dev_file)\n",
    "    for line in train_data:\n",
    "        if random.random() < 0.25:\n",
    "            dev_writer.writerow(line)\n",
    "        else:\n",
    "            train_writer.writerow(line)\n",
    "\n",
    "with open(test_csv,'w',newline='',encoding='utf-8') as csv_file:\n",
    "    writer = csv.writer(csv_file)\n",
    "    for line in train_data:\n",
    "        writer.writerow(line)"
   ]
  }
 ],
 "metadata": {
  "kernelspec": {
   "display_name": "Python 3.8.8 ('base')",
   "language": "python",
   "name": "python3"
  },
  "language_info": {
   "name": "python",
   "version": "3.8.8"
  },
  "orig_nbformat": 4,
  "vscode": {
   "interpreter": {
    "hash": "19e1942432a84160b99a17f87e7e4600300f515ff4805ea7b2f6199b7a48d87c"
   }
  }
 },
 "nbformat": 4,
 "nbformat_minor": 2
}
